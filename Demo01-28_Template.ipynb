{
 "cells": [
  {
   "cell_type": "markdown",
   "metadata": {},
   "source": [
    "# Python\n",
    "[Installation](https://www.python.org/downloads/)\n",
    "- Python is a general-purpose programming language \n",
    "- It is a very popular programming language for data science. \n",
    "- Quick and easy to use for its simple syntax. Effective systems integration.\n",
    "- Large number of analytical libraries that can be utilized easily for Data Science purposes."
   ]
  },
  {
   "cell_type": "markdown",
   "metadata": {},
   "source": [
    "Recommneded Python environment:\n",
    "- [Anaconda](https://www.anaconda.com/products/individual)\n",
    "- IDE: [IDLE](https://docs.python.org/3/library/idle.html), [PyCHarm](https://www.jetbrains.com/pycharm/), [Spyder](https://www.spyder-ide.org/)\n"
   ]
  },
  {
   "cell_type": "markdown",
   "metadata": {},
   "source": [
    "# Tutorial"
   ]
  },
  {
   "cell_type": "code",
   "execution_count": 2,
   "metadata": {},
   "outputs": [
    {
     "name": "stdout",
     "output_type": "stream",
     "text": [
      "Hello 315!\n"
     ]
    }
   ],
   "source": [
    "message = \"Hello 315!\"\n",
    "if True:\n",
    "    print(message)"
   ]
  },
  {
   "cell_type": "markdown",
   "metadata": {},
   "source": [
    "## Useful Data Structures:"
   ]
  },
  {
   "cell_type": "markdown",
   "metadata": {},
   "source": [
    "### Lists"
   ]
  },
  {
   "cell_type": "code",
   "execution_count": 40,
   "metadata": {},
   "outputs": [
    {
     "name": "stdout",
     "output_type": "stream",
     "text": [
      "<class 'list'>\n",
      "mylist[0]:  computer\n",
      "mylist:  ['computer', 'tv', 'phone', 'computer']\n"
     ]
    }
   ],
   "source": [
    "#simple list of items\n",
    "mylist = [\"computer\", \"tv\", \"desk\"]\n",
    "print(type(mylist))\n",
    "#ordered list\n",
    "print(\"mylist[0]: \", mylist[0])\n",
    "#changeable\n",
    "mylist[2] = \"phone\"\n",
    "mylist.append(\"computer\")\n",
    "print(\"mylist: \",mylist)\n",
    "#multiple data types\n",
    "mylist2 = [\"str\", 34, True, False, [2,3]]"
   ]
  },
  {
   "cell_type": "markdown",
   "metadata": {},
   "source": [
    "### Set"
   ]
  },
  {
   "cell_type": "code",
   "execution_count": 21,
   "metadata": {},
   "outputs": [
    {
     "name": "stdout",
     "output_type": "stream",
     "text": [
      "<class 'set'>\n",
      "myset:  {'computer', 'tv', 'desk', 'phone'}\n",
      "myset:  {'computer', 'tv', 'desk', 'phone'}\n",
      "myset:  {'computer', 'tv', 'phone'}\n"
     ]
    }
   ],
   "source": [
    "myset = {\"computer\", \"tv\", \"desk\"}\n",
    "print(type(myset))\n",
    "#unordered\n",
    "print(myset[0])\n",
    "#items cannot be changed\n",
    "#no duplicate\n",
    "myset.add(\"phone\")\n",
    "print(\"myset: \",myset)\n",
    "myset.add(\"tv\")\n",
    "print(\"myset: \",myset)\n",
    "myset.remove(\"desk\")\n",
    "print(\"myset: \",myset)\n",
    "#multiple data types\n",
    "myset2 = {\"str\", 34, True, False}"
   ]
  },
  {
   "cell_type": "markdown",
   "metadata": {},
   "source": [
    "### Tuple"
   ]
  },
  {
   "cell_type": "code",
   "execution_count": 1,
   "metadata": {},
   "outputs": [
    {
     "name": "stdout",
     "output_type": "stream",
     "text": [
      "<class 'tuple'>\n",
      "mytuple[1]:  tv\n",
      "mytuple:  ('computer', 'tv', 'desk', 'phone')\n"
     ]
    }
   ],
   "source": [
    "mytuple = (\"computer\", \"tv\", \"desk\")\n",
    "print(type(mytuple))\n",
    "#ordered\n",
    "print(\"mytuple[1]: \", mytuple[1])\n",
    "#items cannot be changed\n",
    "mytuple = mytuple + (\"phone\",)\n",
    "print(\"mytuple: \", mytuple)\n",
    "#multiple data types\n",
    "mytuple2 = (\"str\", 34, True, False)"
   ]
  },
  {
   "cell_type": "markdown",
   "metadata": {},
   "source": [
    "### Dictionary"
   ]
  },
  {
   "cell_type": "code",
   "execution_count": 33,
   "metadata": {},
   "outputs": [
    {
     "name": "stdout",
     "output_type": "stream",
     "text": [
      "<class 'dict'>\n",
      "mydict[key2]:  1\n",
      "mydict[key2]:  3\n",
      "mydict:  {'key1': 0, 'key2': 3, 'key3': 'Value0', 'key4': True}\n"
     ]
    }
   ],
   "source": [
    "mydict = {\n",
    "    \"key1\": 0,\n",
    "    \"key2\": 1,\n",
    "    \"key3\": \"Value0\"\n",
    "}\n",
    "print(type(mydict))\n",
    "#ordered with keys\n",
    "print(\"mydict[\"\"key2\"\"]: \", mydict[\"key2\"])\n",
    "#changeable\n",
    "mydict[\"key2\"] = 3\n",
    "print(\"mydict[\"\"key2\"\"]: \", mydict[\"key2\"])\n",
    "#no duplicated keys\n",
    "mydict[\"key4\"] = True\n",
    "print(\"mydict: \", mydict)"
   ]
  },
  {
   "cell_type": "markdown",
   "metadata": {},
   "source": [
    "- List is a collection which is ordered and changeable. Allows duplicate members.\n",
    "- Set is a collection which is unordered and unindexed. No duplicate members.\n",
    "- Tuple is a collection which is ordered and unchangeable. Allows duplicate members.\n",
    "- Dictionary is a collection which is unordered and changeable. No duplicate members."
   ]
  },
  {
   "cell_type": "code",
   "execution_count": 45,
   "metadata": {},
   "outputs": [
    {
     "name": "stdout",
     "output_type": "stream",
     "text": [
      "tuple_to_list:  ['computer', 'tv', 'desk', 'phone']\n",
      "list_to_set:  {'computer', 'tv', 'phone'}\n"
     ]
    }
   ],
   "source": [
    "tuple_to_list = list(mytuple)\n",
    "print(\"tuple_to_list: \", tuple_to_list)\n",
    "list_to_set = set(mylist)\n",
    "print(\"list_to_set: \", list_to_set)"
   ]
  },
  {
   "cell_type": "markdown",
   "metadata": {},
   "source": [
    "### Numpy\n",
    "- NumPy is a Python library used for working with arrays.\n",
    "- Very fast, practical, large number of intgerated functions"
   ]
  },
  {
   "cell_type": "code",
   "execution_count": 7,
   "metadata": {},
   "outputs": [
    {
     "name": "stdout",
     "output_type": "stream",
     "text": [
      "[1 2 3 4 5]\n",
      "<class 'numpy.ndarray'>\n",
      "['1' '2' '3.0' 'A' '5']\n",
      "[1. 2. 3. 4. 5.]\n"
     ]
    }
   ],
   "source": [
    "import numpy as np\n",
    "arr1 = np.array([1, 2, 3, 4, 5])\n",
    "print(arr1)\n",
    "print(type(arr1))\n",
    "arr2 = np.array([1, 2, 3.0, \"A\", 5])\n",
    "print(arr2)\n",
    "arr3 = np.array([1, 2, 3.0, 4, 5])\n",
    "print(arr3)"
   ]
  },
  {
   "cell_type": "code",
   "execution_count": 50,
   "metadata": {},
   "outputs": [
    {
     "name": "stdout",
     "output_type": "stream",
     "text": [
      "['str' 34 True False list([2, 3])]\n"
     ]
    }
   ],
   "source": [
    "#transform any structure to ndarray\n",
    "arr4 = np.array(mylist2)\n",
    "print(arr4)"
   ]
  },
  {
   "cell_type": "code",
   "execution_count": 56,
   "metadata": {},
   "outputs": [
    {
     "name": "stdout",
     "output_type": "stream",
     "text": [
      "arr5: \n",
      " [[[0. 0. 0. 0.]\n",
      "  [0. 0. 0. 0.]\n",
      "  [0. 0. 0. 0.]]\n",
      "\n",
      " [[0. 0. 0. 0.]\n",
      "  [0. 0. 0. 0.]\n",
      "  [0. 0. 0. 0.]]]\n",
      "arr6: \n",
      " [[[1 2 3]]\n",
      "\n",
      " [[3 2 1]]]\n",
      "arr6 shape: (2, 1, 3)\n"
     ]
    }
   ],
   "source": [
    "#Multidimensional\n",
    "arr5 = np.zeros((2,3,4))\n",
    "print(\"arr5: \\n\", arr5)\n",
    "arr6 = np.array([[[1,2,3]],[[3,2,1]]])\n",
    "print(\"arr6: \\n\", arr6)\n",
    "print(\"arr6 shape:\", arr6.shape)"
   ]
  },
  {
   "cell_type": "code",
   "execution_count": 58,
   "metadata": {},
   "outputs": [
    {
     "name": "stdout",
     "output_type": "stream",
     "text": [
      "myarr:  [ 1  3  5  7  9 11 13 15 17 19]\n",
      "myarr sliced:  [ 5  9 13]\n"
     ]
    }
   ],
   "source": [
    "#Element access\n",
    "myarr = np.arange(1,20,2)\n",
    "print(\"myarr: \", myarr)\n",
    "print(\"myarr sliced: \", myarr[2:8:2])"
   ]
  },
  {
   "cell_type": "code",
   "execution_count": 9,
   "metadata": {},
   "outputs": [
    {
     "name": "stdout",
     "output_type": "stream",
     "text": [
      "Execution as a list: 86.496 sec.\n",
      "Execution as a np  : 0.578 sec\n"
     ]
    }
   ],
   "source": [
    "import time\n",
    "\n",
    "x1 = np.arange(10000).reshape((-1,1))\n",
    "x2 = np.arange(10000).reshape((-1,1))\n",
    "\n",
    "list_product = np.zeros((10000,10000))\n",
    "t1 = time.time()\n",
    "for i, x1_i in enumerate(x1):\n",
    "    for j, x2_j in enumerate(x2):\n",
    "        list_product[i,j] = x1_i*x2_j\n",
    "t2 = time.time()\n",
    "t3 = time.time()\n",
    "list_product2 = np.dot(x1, x2.T)\n",
    "t4 = time.time()\n",
    "print(\"Execution as a list: {:.3f} sec.\".format((t2-t1)))\n",
    "print(\"Execution as a np  : {:.3f} sec\".format((t4-t3)))"
   ]
  },
  {
   "cell_type": "code",
   "execution_count": 35,
   "metadata": {},
   "outputs": [
    {
     "data": {
      "text/plain": [
       "True"
      ]
     },
     "execution_count": 35,
     "metadata": {},
     "output_type": "execute_result"
    }
   ],
   "source": [
    "np.all(list_product==list_product2)"
   ]
  },
  {
   "cell_type": "markdown",
   "metadata": {},
   "source": [
    "### Data manipulation"
   ]
  },
  {
   "cell_type": "markdown",
   "metadata": {},
   "source": [
    "#### Input files"
   ]
  },
  {
   "cell_type": "code",
   "execution_count": 60,
   "metadata": {},
   "outputs": [
    {
     "name": "stdout",
     "output_type": "stream",
     "text": [
      "['ID0', ' 23', ' 34', ' 45', ' 19']\n",
      "['ID1', ' 12', ' 45', ' 11', ' 20']\n",
      "['ID2', ' 01', ' 02', ' 03', ' 04']\n"
     ]
    }
   ],
   "source": [
    "import csv\n",
    "\n",
    "def read_from_csv(file_name):\n",
    "    \"\"\"\n",
    "    Function to read from file\n",
    "    using csv library\n",
    "    \"\"\"\n",
    "    record = []\n",
    "    with open(file_name) as input_file:\n",
    "        lines = csv.reader(input_file, delimiter=',')\n",
    "        for row in lines:\n",
    "            print(row)\n",
    "            record.append(row)\n",
    "    return record\n",
    "\n",
    "content = read_from_csv(\"document.csv\")"
   ]
  },
  {
   "cell_type": "code",
   "execution_count": 65,
   "metadata": {},
   "outputs": [
    {
     "name": "stdout",
     "output_type": "stream",
     "text": [
      "content_dict:  {'ID0': array([23, 34, 45, 19]), 'ID1': array([12, 45, 11, 20]), 'ID2': array([1, 2, 3, 4])}\n"
     ]
    }
   ],
   "source": [
    "content_dict = {}\n",
    "for id_data in content:\n",
    "    content_dict[str(id_data[0])] = np.array(id_data[1:]).astype(np.int)\n",
    "print(\"content_dict: \", content_dict)"
   ]
  },
  {
   "cell_type": "markdown",
   "metadata": {},
   "source": [
    "#### Iterations"
   ]
  },
  {
   "cell_type": "code",
   "execution_count": 67,
   "metadata": {},
   "outputs": [
    {
     "name": "stdout",
     "output_type": "stream",
     "text": [
      "23\n",
      "34\n",
      "45\n",
      "19\n",
      "-------\n",
      "0 :  23\n",
      "1 :  34\n",
      "2 :  45\n",
      "3 :  19\n"
     ]
    }
   ],
   "source": [
    "for item in content_dict[\"ID0\"]:\n",
    "    print(item)\n",
    "print(\"-------\")\n",
    "for index, item in enumerate(content_dict[\"ID0\"]):\n",
    "    print(index, \": \", item)"
   ]
  },
  {
   "cell_type": "code",
   "execution_count": 77,
   "metadata": {},
   "outputs": [],
   "source": [
    "import itertools #iterators for efficient iterating\n",
    "#Very useful for Combinatoric iterators\n",
    "\n",
    "for value in itertools.permutations(content_dict[\"ID2\"]):\n",
    "    #generate all possible permutations of an iterable\n",
    "    print(value)\n",
    "    \n",
    "for value in itertools.combinations(content_dict[\"ID2\"],4):\n",
    "    #generate  all the possible combinations(without replacement) \n",
    "    #of the iterable passed in arguments in the specified group size in sorted order.\n",
    "    print(value)\n",
    "    \n",
    "for value in itertools.combinations_with_replacement(content_dict[\"ID2\"],3):\n",
    "    #generate  all the possible combinations of the iterable \n",
    "    #items passed in arguments in the specified group size.\n",
    "    print(value)"
   ]
  },
  {
   "cell_type": "code",
   "execution_count": 81,
   "metadata": {},
   "outputs": [
    {
     "name": "stdout",
     "output_type": "stream",
     "text": [
      "list0 [-1, 34, 45, -1]\n",
      "list1 [-1, 34, 45, -1]\n"
     ]
    }
   ],
   "source": [
    "#Illustration of comprehensive lists\n",
    "list0 = []\n",
    "for items in content_dict[\"ID0\"]:\n",
    "    if items > 30:\n",
    "        list0.append(items)\n",
    "    else:\n",
    "        list0.append(-1)\n",
    "print(\"list0\", list0)\n",
    "list1 = [items if items>30 else -1 for items in content_dict[\"ID0\"]]\n",
    "print(\"list1\", list1)"
   ]
  },
  {
   "cell_type": "code",
   "execution_count": 82,
   "metadata": {},
   "outputs": [
    {
     "name": "stdout",
     "output_type": "stream",
     "text": [
      "list2 [-1, 34, 45, -1]\n"
     ]
    }
   ],
   "source": [
    "def isokay(number):\n",
    "    if number > 30:\n",
    "        return number\n",
    "    else:\n",
    "        return -1\n",
    "list2 = [isokay(items) for items in content_dict[\"ID0\"]]\n",
    "print(\"list2\", list2)"
   ]
  },
  {
   "cell_type": "markdown",
   "metadata": {},
   "source": [
    "#### Sorting"
   ]
  },
  {
   "cell_type": "code",
   "execution_count": 86,
   "metadata": {},
   "outputs": [
    {
     "name": "stdout",
     "output_type": "stream",
     "text": [
      "l1:  [23 34 45 19]\n",
      "l1 sorted:  [19, 23, 34, 45]\n"
     ]
    }
   ],
   "source": [
    "l1 = content_dict[\"ID0\"]\n",
    "print(\"l1: \", l1)\n",
    "print(\"l1 sorted: \", sorted(l1))"
   ]
  },
  {
   "cell_type": "code",
   "execution_count": 95,
   "metadata": {},
   "outputs": [
    {
     "name": "stdout",
     "output_type": "stream",
     "text": [
      "Sort alphabetically:  ['computer', 'keyboard', 'phone', 'screen', 'tv']\n",
      "Sort length:  ['tv', 'phone', 'screen', 'computer', 'keyboard']\n",
      "Sort last character:  ['keyboard', 'phone', 'screen', 'computer', 'tv']\n",
      "Sort last character:  ['keyboard', 'phone', 'screen', 'computer', 'tv']\n"
     ]
    }
   ],
   "source": [
    "l2 = [\"phone\", \"screen\", \"tv\", \"computer\", \"keyboard\"]\n",
    "print(\"Sort alphabetically: \", sorted(l2)) \n",
    "\n",
    "print(\"Sort length: \", sorted(l2, key=len))\n",
    "\n",
    "def last_pos(x):\n",
    "    return x[-1]\n",
    "print(\"Sort last character: \", sorted(l2, key=last_pos))\n",
    "print(\"Sort last character: \", sorted(l2, key=lambda x:x[-1]))"
   ]
  },
  {
   "cell_type": "code",
   "execution_count": 99,
   "metadata": {},
   "outputs": [
    {
     "name": "stdout",
     "output_type": "stream",
     "text": [
      "Result:  3\n"
     ]
    }
   ],
   "source": [
    "#lambda function\n",
    "f_add = lambda x, y:x+y\n",
    "print(\"Result: \", f_add(1,2))\n",
    "#Lambda is an anonymous function (without a name), restricted to a single expression"
   ]
  },
  {
   "cell_type": "markdown",
   "metadata": {},
   "source": [
    "#### Pandas library \n",
    "Pandas is a very good library for handling large representation of complex data collections"
   ]
  },
  {
   "cell_type": "markdown",
   "metadata": {},
   "source": [
    "- Calculate statistics and answer questions about the data, like average, inter-columns correlations, distributions of items...\n",
    "- Good handle on tabular data with heterogeneously-typed columns.\n",
    "- Visualize the data with help from Matplotlib. \n",
    "- Efficient storage and reading data (CSV, json, databases...)"
   ]
  },
  {
   "cell_type": "code",
   "execution_count": 154,
   "metadata": {},
   "outputs": [
    {
     "data": {
      "text/html": [
       "<div>\n",
       "<style scoped>\n",
       "    .dataframe tbody tr th:only-of-type {\n",
       "        vertical-align: middle;\n",
       "    }\n",
       "\n",
       "    .dataframe tbody tr th {\n",
       "        vertical-align: top;\n",
       "    }\n",
       "\n",
       "    .dataframe thead th {\n",
       "        text-align: right;\n",
       "    }\n",
       "</style>\n",
       "<table border=\"1\" class=\"dataframe\">\n",
       "  <thead>\n",
       "    <tr style=\"text-align: right;\">\n",
       "      <th></th>\n",
       "      <th>movieId</th>\n",
       "      <th>title</th>\n",
       "      <th>year</th>\n",
       "      <th>watched</th>\n",
       "      <th>genres</th>\n",
       "      <th>rating</th>\n",
       "    </tr>\n",
       "  </thead>\n",
       "  <tbody>\n",
       "    <tr>\n",
       "      <th>0</th>\n",
       "      <td>101</td>\n",
       "      <td>Toy Story</td>\n",
       "      <td>1995</td>\n",
       "      <td>yes</td>\n",
       "      <td>Adventure|Animation|Children|Comedy|Fantasy</td>\n",
       "      <td>10</td>\n",
       "    </tr>\n",
       "    <tr>\n",
       "      <th>1</th>\n",
       "      <td>102</td>\n",
       "      <td>Jumanji</td>\n",
       "      <td>2017</td>\n",
       "      <td>no</td>\n",
       "      <td>Adventure|Children|Fantasy</td>\n",
       "      <td>8</td>\n",
       "    </tr>\n",
       "    <tr>\n",
       "      <th>2</th>\n",
       "      <td>103</td>\n",
       "      <td>Grumpier Old Men</td>\n",
       "      <td>1995</td>\n",
       "      <td>yes</td>\n",
       "      <td>Comedy|Romance</td>\n",
       "      <td>6</td>\n",
       "    </tr>\n",
       "    <tr>\n",
       "      <th>3</th>\n",
       "      <td>104</td>\n",
       "      <td>Dangerous Minds</td>\n",
       "      <td>1995</td>\n",
       "      <td>yes</td>\n",
       "      <td>Drama</td>\n",
       "      <td>6</td>\n",
       "    </tr>\n",
       "    <tr>\n",
       "      <th>4</th>\n",
       "      <td>105</td>\n",
       "      <td>Mortal Kombat</td>\n",
       "      <td>1997</td>\n",
       "      <td>yes</td>\n",
       "      <td>Action|Adventure|Fantasy</td>\n",
       "      <td>2</td>\n",
       "    </tr>\n",
       "    <tr>\n",
       "      <th>5</th>\n",
       "      <td>106</td>\n",
       "      <td>To Die For</td>\n",
       "      <td>1995</td>\n",
       "      <td>no</td>\n",
       "      <td>Comedy|Drama|Thriller</td>\n",
       "      <td>7</td>\n",
       "    </tr>\n",
       "    <tr>\n",
       "      <th>6</th>\n",
       "      <td>107</td>\n",
       "      <td>How to Make an American Quilt</td>\n",
       "      <td>1995</td>\n",
       "      <td>no</td>\n",
       "      <td>Drama|Romance</td>\n",
       "      <td>6</td>\n",
       "    </tr>\n",
       "    <tr>\n",
       "      <th>7</th>\n",
       "      <td>108</td>\n",
       "      <td>Seven</td>\n",
       "      <td>1995</td>\n",
       "      <td>yes</td>\n",
       "      <td>Mystery|Thriller</td>\n",
       "      <td>10</td>\n",
       "    </tr>\n",
       "    <tr>\n",
       "      <th>8</th>\n",
       "      <td>109</td>\n",
       "      <td>Pocahontas</td>\n",
       "      <td>1995</td>\n",
       "      <td>yes</td>\n",
       "      <td>Animation|Children|Drama|Musical|Romance</td>\n",
       "      <td>10</td>\n",
       "    </tr>\n",
       "    <tr>\n",
       "      <th>9</th>\n",
       "      <td>110</td>\n",
       "      <td>Home for the Holidays</td>\n",
       "      <td>1995</td>\n",
       "      <td>no</td>\n",
       "      <td>Drama</td>\n",
       "      <td>8</td>\n",
       "    </tr>\n",
       "    <tr>\n",
       "      <th>10</th>\n",
       "      <td>111</td>\n",
       "      <td>Les Miserables</td>\n",
       "      <td>2012</td>\n",
       "      <td>no</td>\n",
       "      <td>Drama|War</td>\n",
       "      <td>9</td>\n",
       "    </tr>\n",
       "  </tbody>\n",
       "</table>\n",
       "</div>"
      ],
      "text/plain": [
       "    movieId                          title  year watched  \\\n",
       "0       101                      Toy Story  1995     yes   \n",
       "1       102                        Jumanji  2017      no   \n",
       "2       103               Grumpier Old Men  1995     yes   \n",
       "3       104                Dangerous Minds  1995     yes   \n",
       "4       105                  Mortal Kombat  1997     yes   \n",
       "5       106                     To Die For  1995      no   \n",
       "6       107  How to Make an American Quilt  1995      no   \n",
       "7       108                          Seven  1995     yes   \n",
       "8       109                     Pocahontas  1995     yes   \n",
       "9       110          Home for the Holidays  1995      no   \n",
       "10      111                 Les Miserables  2012      no   \n",
       "\n",
       "                                         genres  rating  \n",
       "0   Adventure|Animation|Children|Comedy|Fantasy      10  \n",
       "1                    Adventure|Children|Fantasy       8  \n",
       "2                                Comedy|Romance       6  \n",
       "3                                         Drama       6  \n",
       "4                      Action|Adventure|Fantasy       2  \n",
       "5                         Comedy|Drama|Thriller       7  \n",
       "6                                 Drama|Romance       6  \n",
       "7                              Mystery|Thriller      10  \n",
       "8      Animation|Children|Drama|Musical|Romance      10  \n",
       "9                                         Drama       8  \n",
       "10                                    Drama|War       9  "
      ]
     },
     "execution_count": 154,
     "metadata": {},
     "output_type": "execute_result"
    }
   ],
   "source": [
    "import pandas as pd\n",
    "\n",
    "dFrame = pd.read_csv(\"mymovies.csv\")\n",
    "dFrame"
   ]
  },
  {
   "cell_type": "code",
   "execution_count": 110,
   "metadata": {},
   "outputs": [
    {
     "name": "stdout",
     "output_type": "stream",
     "text": [
      "<class 'pandas.core.frame.DataFrame'>\n",
      "RangeIndex: 11 entries, 0 to 10\n",
      "Data columns (total 5 columns):\n",
      " #   Column   Non-Null Count  Dtype \n",
      "---  ------   --------------  ----- \n",
      " 0   movieId  11 non-null     int64 \n",
      " 1   title    11 non-null     object\n",
      " 2   watched  11 non-null     object\n",
      " 3   genres   11 non-null     object\n",
      " 4   rating   11 non-null     int64 \n",
      "dtypes: int64(2), object(3)\n",
      "memory usage: 568.0+ bytes\n",
      "None\n"
     ]
    }
   ],
   "source": [
    "print(dFrame.info())"
   ]
  },
  {
   "cell_type": "code",
   "execution_count": 105,
   "metadata": {},
   "outputs": [
    {
     "name": "stdout",
     "output_type": "stream",
     "text": [
      "{'War', 'Fantasy', 'Action', 'Adventure', 'Musical', 'Thriller', 'Mystery', 'Comedy', 'Animation', 'Romance', 'Drama', 'Children'}\n"
     ]
    }
   ],
   "source": [
    "#extract genres\n",
    "genres_set = set() #no duplicates\n",
    "for i in dFrame.index:\n",
    "    line = str(dFrame.at[i, 'genres']) #grab item at row i and column 'genres'\n",
    "    genres_set.update(line.split('|')) #iterable\n",
    "print(genres_set)"
   ]
  },
  {
   "cell_type": "code",
   "execution_count": 113,
   "metadata": {},
   "outputs": [
    {
     "data": {
      "text/html": [
       "<div>\n",
       "<style scoped>\n",
       "    .dataframe tbody tr th:only-of-type {\n",
       "        vertical-align: middle;\n",
       "    }\n",
       "\n",
       "    .dataframe tbody tr th {\n",
       "        vertical-align: top;\n",
       "    }\n",
       "\n",
       "    .dataframe thead th {\n",
       "        text-align: right;\n",
       "    }\n",
       "</style>\n",
       "<table border=\"1\" class=\"dataframe\">\n",
       "  <thead>\n",
       "    <tr style=\"text-align: right;\">\n",
       "      <th></th>\n",
       "      <th>watched</th>\n",
       "      <th>rating</th>\n",
       "    </tr>\n",
       "  </thead>\n",
       "  <tbody>\n",
       "    <tr>\n",
       "      <th>0</th>\n",
       "      <td>yes</td>\n",
       "      <td>10</td>\n",
       "    </tr>\n",
       "    <tr>\n",
       "      <th>1</th>\n",
       "      <td>no</td>\n",
       "      <td>8</td>\n",
       "    </tr>\n",
       "    <tr>\n",
       "      <th>2</th>\n",
       "      <td>yes</td>\n",
       "      <td>6</td>\n",
       "    </tr>\n",
       "    <tr>\n",
       "      <th>3</th>\n",
       "      <td>yes</td>\n",
       "      <td>6</td>\n",
       "    </tr>\n",
       "    <tr>\n",
       "      <th>4</th>\n",
       "      <td>yes</td>\n",
       "      <td>2</td>\n",
       "    </tr>\n",
       "    <tr>\n",
       "      <th>5</th>\n",
       "      <td>no</td>\n",
       "      <td>7</td>\n",
       "    </tr>\n",
       "    <tr>\n",
       "      <th>6</th>\n",
       "      <td>no</td>\n",
       "      <td>6</td>\n",
       "    </tr>\n",
       "    <tr>\n",
       "      <th>7</th>\n",
       "      <td>yes</td>\n",
       "      <td>10</td>\n",
       "    </tr>\n",
       "    <tr>\n",
       "      <th>8</th>\n",
       "      <td>yes</td>\n",
       "      <td>10</td>\n",
       "    </tr>\n",
       "    <tr>\n",
       "      <th>9</th>\n",
       "      <td>no</td>\n",
       "      <td>8</td>\n",
       "    </tr>\n",
       "    <tr>\n",
       "      <th>10</th>\n",
       "      <td>no</td>\n",
       "      <td>9</td>\n",
       "    </tr>\n",
       "  </tbody>\n",
       "</table>\n",
       "</div>"
      ],
      "text/plain": [
       "   watched  rating\n",
       "0      yes      10\n",
       "1       no       8\n",
       "2      yes       6\n",
       "3      yes       6\n",
       "4      yes       2\n",
       "5       no       7\n",
       "6       no       6\n",
       "7      yes      10\n",
       "8      yes      10\n",
       "9       no       8\n",
       "10      no       9"
      ]
     },
     "execution_count": 113,
     "metadata": {},
     "output_type": "execute_result"
    }
   ],
   "source": [
    "#Extract columns needed\n",
    "DF2 = dFrame[['watched', 'rating']]"
   ]
  },
  {
   "cell_type": "code",
   "execution_count": 115,
   "metadata": {},
   "outputs": [
    {
     "data": {
      "text/html": [
       "<div>\n",
       "<style scoped>\n",
       "    .dataframe tbody tr th:only-of-type {\n",
       "        vertical-align: middle;\n",
       "    }\n",
       "\n",
       "    .dataframe tbody tr th {\n",
       "        vertical-align: top;\n",
       "    }\n",
       "\n",
       "    .dataframe thead th {\n",
       "        text-align: right;\n",
       "    }\n",
       "</style>\n",
       "<table border=\"1\" class=\"dataframe\">\n",
       "  <thead>\n",
       "    <tr style=\"text-align: right;\">\n",
       "      <th></th>\n",
       "      <th>movieId</th>\n",
       "      <th>title</th>\n",
       "      <th>watched</th>\n",
       "      <th>genres</th>\n",
       "      <th>rating</th>\n",
       "    </tr>\n",
       "  </thead>\n",
       "  <tbody>\n",
       "    <tr>\n",
       "      <th>6</th>\n",
       "      <td>107</td>\n",
       "      <td>How to Make an American Quilt (1995)</td>\n",
       "      <td>no</td>\n",
       "      <td>Drama|Romance</td>\n",
       "      <td>6</td>\n",
       "    </tr>\n",
       "    <tr>\n",
       "      <th>7</th>\n",
       "      <td>108</td>\n",
       "      <td>Seven (a.k.a. Se7en) (1995)</td>\n",
       "      <td>yes</td>\n",
       "      <td>Mystery|Thriller</td>\n",
       "      <td>10</td>\n",
       "    </tr>\n",
       "  </tbody>\n",
       "</table>\n",
       "</div>"
      ],
      "text/plain": [
       "   movieId                                 title watched            genres  \\\n",
       "6      107  How to Make an American Quilt (1995)      no     Drama|Romance   \n",
       "7      108           Seven (a.k.a. Se7en) (1995)     yes  Mystery|Thriller   \n",
       "\n",
       "   rating  \n",
       "6       6  \n",
       "7      10  "
      ]
     },
     "execution_count": 115,
     "metadata": {},
     "output_type": "execute_result"
    }
   ],
   "source": [
    "#Extract rows needed\n",
    "dFrame.iloc[6:8]"
   ]
  },
  {
   "cell_type": "code",
   "execution_count": 117,
   "metadata": {},
   "outputs": [
    {
     "data": {
      "text/html": [
       "<div>\n",
       "<style scoped>\n",
       "    .dataframe tbody tr th:only-of-type {\n",
       "        vertical-align: middle;\n",
       "    }\n",
       "\n",
       "    .dataframe tbody tr th {\n",
       "        vertical-align: top;\n",
       "    }\n",
       "\n",
       "    .dataframe thead th {\n",
       "        text-align: right;\n",
       "    }\n",
       "</style>\n",
       "<table border=\"1\" class=\"dataframe\">\n",
       "  <thead>\n",
       "    <tr style=\"text-align: right;\">\n",
       "      <th></th>\n",
       "      <th>movieId</th>\n",
       "      <th>title</th>\n",
       "      <th>watched</th>\n",
       "      <th>genres</th>\n",
       "      <th>rating</th>\n",
       "    </tr>\n",
       "  </thead>\n",
       "  <tbody>\n",
       "    <tr>\n",
       "      <th>0</th>\n",
       "      <td>101</td>\n",
       "      <td>Toy Story (1995)</td>\n",
       "      <td>yes</td>\n",
       "      <td>Adventure|Animation|Children|Comedy|Fantasy</td>\n",
       "      <td>10</td>\n",
       "    </tr>\n",
       "    <tr>\n",
       "      <th>7</th>\n",
       "      <td>108</td>\n",
       "      <td>Seven (a.k.a. Se7en) (1995)</td>\n",
       "      <td>yes</td>\n",
       "      <td>Mystery|Thriller</td>\n",
       "      <td>10</td>\n",
       "    </tr>\n",
       "    <tr>\n",
       "      <th>8</th>\n",
       "      <td>109</td>\n",
       "      <td>Pocahontas (1995)</td>\n",
       "      <td>yes</td>\n",
       "      <td>Animation|Children|Drama|Musical|Romance</td>\n",
       "      <td>10</td>\n",
       "    </tr>\n",
       "    <tr>\n",
       "      <th>10</th>\n",
       "      <td>111</td>\n",
       "      <td>Misérables,Les (1995)</td>\n",
       "      <td>no</td>\n",
       "      <td>Drama|War</td>\n",
       "      <td>9</td>\n",
       "    </tr>\n",
       "  </tbody>\n",
       "</table>\n",
       "</div>"
      ],
      "text/plain": [
       "    movieId                        title watched  \\\n",
       "0       101             Toy Story (1995)     yes   \n",
       "7       108  Seven (a.k.a. Se7en) (1995)     yes   \n",
       "8       109            Pocahontas (1995)     yes   \n",
       "10      111        Misérables,Les (1995)      no   \n",
       "\n",
       "                                         genres  rating  \n",
       "0   Adventure|Animation|Children|Comedy|Fantasy      10  \n",
       "7                              Mystery|Thriller      10  \n",
       "8      Animation|Children|Drama|Musical|Romance      10  \n",
       "10                                    Drama|War       9  "
      ]
     },
     "execution_count": 117,
     "metadata": {},
     "output_type": "execute_result"
    }
   ],
   "source": [
    "#Conditional selection\n",
    "dFrame[dFrame['rating']>8]"
   ]
  },
  {
   "cell_type": "code",
   "execution_count": 123,
   "metadata": {},
   "outputs": [
    {
     "data": {
      "text/html": [
       "<div>\n",
       "<style scoped>\n",
       "    .dataframe tbody tr th:only-of-type {\n",
       "        vertical-align: middle;\n",
       "    }\n",
       "\n",
       "    .dataframe tbody tr th {\n",
       "        vertical-align: top;\n",
       "    }\n",
       "\n",
       "    .dataframe thead th {\n",
       "        text-align: right;\n",
       "    }\n",
       "</style>\n",
       "<table border=\"1\" class=\"dataframe\">\n",
       "  <thead>\n",
       "    <tr style=\"text-align: right;\">\n",
       "      <th></th>\n",
       "      <th>title</th>\n",
       "      <th>rating</th>\n",
       "    </tr>\n",
       "  </thead>\n",
       "  <tbody>\n",
       "    <tr>\n",
       "      <th>8</th>\n",
       "      <td>Pocahontas (1995)</td>\n",
       "      <td>10</td>\n",
       "    </tr>\n",
       "    <tr>\n",
       "      <th>10</th>\n",
       "      <td>Misérables,Les (1995)</td>\n",
       "      <td>9</td>\n",
       "    </tr>\n",
       "  </tbody>\n",
       "</table>\n",
       "</div>"
      ],
      "text/plain": [
       "                    title  rating\n",
       "8       Pocahontas (1995)      10\n",
       "10  Misérables,Les (1995)       9"
      ]
     },
     "execution_count": 123,
     "metadata": {},
     "output_type": "execute_result"
    }
   ],
   "source": [
    "#Let's merge!\n",
    "dFrame[['title','rating']][dFrame['rating']>8].iloc[-2:]"
   ]
  },
  {
   "cell_type": "code",
   "execution_count": 130,
   "metadata": {},
   "outputs": [
    {
     "name": "stdout",
     "output_type": "stream",
     "text": [
      "Mean rating: 7.45\n",
      "Watched movies: 6\n"
     ]
    }
   ],
   "source": [
    "#Statistical operations\n",
    "print(\"Mean rating: {:.2f}\".format(dFrame['rating'].mean()))\n",
    "print(\"Watched movies: {}\".format(dFrame['watched'][dFrame['watched']=='yes'].count()))"
   ]
  },
  {
   "cell_type": "code",
   "execution_count": 136,
   "metadata": {},
   "outputs": [
    {
     "data": {
      "text/plain": [
       "1995    8\n",
       "1997    1\n",
       "2012    1\n",
       "2017    1\n",
       "Name: year, dtype: int64"
      ]
     },
     "execution_count": 136,
     "metadata": {},
     "output_type": "execute_result"
    }
   ],
   "source": [
    "dFrame['year'].value_counts()"
   ]
  },
  {
   "cell_type": "code",
   "execution_count": 141,
   "metadata": {},
   "outputs": [
    {
     "data": {
      "text/html": [
       "<div>\n",
       "<style scoped>\n",
       "    .dataframe tbody tr th:only-of-type {\n",
       "        vertical-align: middle;\n",
       "    }\n",
       "\n",
       "    .dataframe tbody tr th {\n",
       "        vertical-align: top;\n",
       "    }\n",
       "\n",
       "    .dataframe thead th {\n",
       "        text-align: right;\n",
       "    }\n",
       "</style>\n",
       "<table border=\"1\" class=\"dataframe\">\n",
       "  <thead>\n",
       "    <tr style=\"text-align: right;\">\n",
       "      <th></th>\n",
       "      <th>movieId</th>\n",
       "      <th>title</th>\n",
       "      <th>year</th>\n",
       "      <th>genres</th>\n",
       "      <th>rating</th>\n",
       "    </tr>\n",
       "    <tr>\n",
       "      <th>watched</th>\n",
       "      <th></th>\n",
       "      <th></th>\n",
       "      <th></th>\n",
       "      <th></th>\n",
       "      <th></th>\n",
       "    </tr>\n",
       "  </thead>\n",
       "  <tbody>\n",
       "    <tr>\n",
       "      <th>no</th>\n",
       "      <td>102</td>\n",
       "      <td>Home for the Holidays</td>\n",
       "      <td>1995</td>\n",
       "      <td>Adventure|Children|Fantasy</td>\n",
       "      <td>6</td>\n",
       "    </tr>\n",
       "    <tr>\n",
       "      <th>yes</th>\n",
       "      <td>101</td>\n",
       "      <td>Dangerous Minds</td>\n",
       "      <td>1995</td>\n",
       "      <td>Action|Adventure|Fantasy</td>\n",
       "      <td>2</td>\n",
       "    </tr>\n",
       "  </tbody>\n",
       "</table>\n",
       "</div>"
      ],
      "text/plain": [
       "         movieId                  title  year                      genres  \\\n",
       "watched                                                                     \n",
       "no           102  Home for the Holidays  1995  Adventure|Children|Fantasy   \n",
       "yes          101        Dangerous Minds  1995    Action|Adventure|Fantasy   \n",
       "\n",
       "         rating  \n",
       "watched          \n",
       "no            6  \n",
       "yes           2  "
      ]
     },
     "execution_count": 141,
     "metadata": {},
     "output_type": "execute_result"
    }
   ],
   "source": [
    "dFrame.groupby('watched').min()"
   ]
  },
  {
   "cell_type": "code",
   "execution_count": 155,
   "metadata": {},
   "outputs": [],
   "source": [
    "import copy\n",
    "dFrame2 = copy.deepcopy(dFrame)\n",
    "dFrame2['rating'] = dFrame2['rating'].apply(lambda x:min(x,5))"
   ]
  },
  {
   "cell_type": "code",
   "execution_count": 157,
   "metadata": {},
   "outputs": [
    {
     "data": {
      "text/html": [
       "<div>\n",
       "<style scoped>\n",
       "    .dataframe tbody tr th:only-of-type {\n",
       "        vertical-align: middle;\n",
       "    }\n",
       "\n",
       "    .dataframe tbody tr th {\n",
       "        vertical-align: top;\n",
       "    }\n",
       "\n",
       "    .dataframe thead th {\n",
       "        text-align: right;\n",
       "    }\n",
       "</style>\n",
       "<table border=\"1\" class=\"dataframe\">\n",
       "  <thead>\n",
       "    <tr style=\"text-align: right;\">\n",
       "      <th></th>\n",
       "      <th>movieId</th>\n",
       "      <th>title</th>\n",
       "      <th>year</th>\n",
       "      <th>watched</th>\n",
       "      <th>genres</th>\n",
       "      <th>rating</th>\n",
       "    </tr>\n",
       "  </thead>\n",
       "  <tbody>\n",
       "    <tr>\n",
       "      <th>0</th>\n",
       "      <td>101</td>\n",
       "      <td>Toy Story</td>\n",
       "      <td>1995</td>\n",
       "      <td>yes</td>\n",
       "      <td>Adventure|Animation|Children|Comedy|Fantasy</td>\n",
       "      <td>5</td>\n",
       "    </tr>\n",
       "    <tr>\n",
       "      <th>1</th>\n",
       "      <td>102</td>\n",
       "      <td>Jumanji</td>\n",
       "      <td>2017</td>\n",
       "      <td>no</td>\n",
       "      <td>Adventure|Children|Fantasy</td>\n",
       "      <td>5</td>\n",
       "    </tr>\n",
       "    <tr>\n",
       "      <th>2</th>\n",
       "      <td>103</td>\n",
       "      <td>Grumpier Old Men</td>\n",
       "      <td>1995</td>\n",
       "      <td>yes</td>\n",
       "      <td>Comedy|Romance</td>\n",
       "      <td>5</td>\n",
       "    </tr>\n",
       "    <tr>\n",
       "      <th>3</th>\n",
       "      <td>104</td>\n",
       "      <td>Dangerous Minds</td>\n",
       "      <td>1995</td>\n",
       "      <td>yes</td>\n",
       "      <td>Drama</td>\n",
       "      <td>5</td>\n",
       "    </tr>\n",
       "    <tr>\n",
       "      <th>4</th>\n",
       "      <td>105</td>\n",
       "      <td>Mortal Kombat</td>\n",
       "      <td>1997</td>\n",
       "      <td>yes</td>\n",
       "      <td>Action|Adventure|Fantasy</td>\n",
       "      <td>2</td>\n",
       "    </tr>\n",
       "    <tr>\n",
       "      <th>5</th>\n",
       "      <td>106</td>\n",
       "      <td>To Die For</td>\n",
       "      <td>1995</td>\n",
       "      <td>no</td>\n",
       "      <td>Comedy|Drama|Thriller</td>\n",
       "      <td>5</td>\n",
       "    </tr>\n",
       "    <tr>\n",
       "      <th>6</th>\n",
       "      <td>107</td>\n",
       "      <td>How to Make an American Quilt</td>\n",
       "      <td>1995</td>\n",
       "      <td>no</td>\n",
       "      <td>Drama|Romance</td>\n",
       "      <td>5</td>\n",
       "    </tr>\n",
       "    <tr>\n",
       "      <th>7</th>\n",
       "      <td>108</td>\n",
       "      <td>Seven</td>\n",
       "      <td>1995</td>\n",
       "      <td>yes</td>\n",
       "      <td>Mystery|Thriller</td>\n",
       "      <td>5</td>\n",
       "    </tr>\n",
       "    <tr>\n",
       "      <th>8</th>\n",
       "      <td>109</td>\n",
       "      <td>Pocahontas</td>\n",
       "      <td>1995</td>\n",
       "      <td>yes</td>\n",
       "      <td>Animation|Children|Drama|Musical|Romance</td>\n",
       "      <td>5</td>\n",
       "    </tr>\n",
       "    <tr>\n",
       "      <th>9</th>\n",
       "      <td>110</td>\n",
       "      <td>Home for the Holidays</td>\n",
       "      <td>1995</td>\n",
       "      <td>no</td>\n",
       "      <td>Drama</td>\n",
       "      <td>5</td>\n",
       "    </tr>\n",
       "    <tr>\n",
       "      <th>10</th>\n",
       "      <td>111</td>\n",
       "      <td>Les Miserables</td>\n",
       "      <td>2012</td>\n",
       "      <td>no</td>\n",
       "      <td>Drama|War</td>\n",
       "      <td>5</td>\n",
       "    </tr>\n",
       "  </tbody>\n",
       "</table>\n",
       "</div>"
      ],
      "text/plain": [
       "    movieId                          title  year watched  \\\n",
       "0       101                      Toy Story  1995     yes   \n",
       "1       102                        Jumanji  2017      no   \n",
       "2       103               Grumpier Old Men  1995     yes   \n",
       "3       104                Dangerous Minds  1995     yes   \n",
       "4       105                  Mortal Kombat  1997     yes   \n",
       "5       106                     To Die For  1995      no   \n",
       "6       107  How to Make an American Quilt  1995      no   \n",
       "7       108                          Seven  1995     yes   \n",
       "8       109                     Pocahontas  1995     yes   \n",
       "9       110          Home for the Holidays  1995      no   \n",
       "10      111                 Les Miserables  2012      no   \n",
       "\n",
       "                                         genres  rating  \n",
       "0   Adventure|Animation|Children|Comedy|Fantasy       5  \n",
       "1                    Adventure|Children|Fantasy       5  \n",
       "2                                Comedy|Romance       5  \n",
       "3                                         Drama       5  \n",
       "4                      Action|Adventure|Fantasy       2  \n",
       "5                         Comedy|Drama|Thriller       5  \n",
       "6                                 Drama|Romance       5  \n",
       "7                              Mystery|Thriller       5  \n",
       "8      Animation|Children|Drama|Musical|Romance       5  \n",
       "9                                         Drama       5  \n",
       "10                                    Drama|War       5  "
      ]
     },
     "execution_count": 157,
     "metadata": {},
     "output_type": "execute_result"
    }
   ],
   "source": [
    "dFrame2"
   ]
  },
  {
   "cell_type": "code",
   "execution_count": 158,
   "metadata": {},
   "outputs": [],
   "source": [
    "dFrame2.to_csv(\"new_document.csv\")"
   ]
  }
 ],
 "metadata": {
  "kernelspec": {
   "display_name": "Python 3",
   "language": "python",
   "name": "python3"
  },
  "language_info": {
   "codemirror_mode": {
    "name": "ipython",
    "version": 3
   },
   "file_extension": ".py",
   "mimetype": "text/x-python",
   "name": "python",
   "nbconvert_exporter": "python",
   "pygments_lexer": "ipython3",
   "version": "3.8.3"
  }
 },
 "nbformat": 4,
 "nbformat_minor": 2
}
