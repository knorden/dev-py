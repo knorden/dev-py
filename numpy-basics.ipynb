{
 "metadata": {
  "language_info": {
   "codemirror_mode": {
    "name": "ipython",
    "version": 3
   },
   "file_extension": ".py",
   "mimetype": "text/x-python",
   "name": "python",
   "nbconvert_exporter": "python",
   "pygments_lexer": "ipython3",
   "version": "3.8.5-final"
  },
  "orig_nbformat": 2,
  "kernelspec": {
   "name": "python3",
   "display_name": "Python 3",
   "language": "python"
  }
 },
 "nbformat": 4,
 "nbformat_minor": 2,
 "cells": [
  {
   "cell_type": "code",
   "execution_count": null,
   "metadata": {},
   "outputs": [],
   "source": [
    "message = \"Hello World!\"\n",
    "message = 1.0 \n",
    "if True:\n",
    "    print(message)"
   ]
  },
  {
   "cell_type": "code",
   "execution_count": 3,
   "metadata": {},
   "outputs": [
    {
     "output_type": "stream",
     "name": "stdout",
     "text": [
      "myList[0]: computer\n"
     ]
    }
   ],
   "source": [
    "myList = [\"computer\", \"tv\", \"phone\"]\n",
    "print(\"myList[0]:\", myList[0])"
   ]
  },
  {
   "cell_type": "code",
   "execution_count": 4,
   "metadata": {},
   "outputs": [],
   "source": [
    "import numpy as np\n",
    "list1 = [1,2,3,4]\n",
    "arr1 = np.array(list1)\n",
    "# print(type(arr1))\n",
    "arr2 = np.array(['1','2'])"
   ]
  },
  {
   "cell_type": "code",
   "execution_count": 5,
   "metadata": {},
   "outputs": [
    {
     "output_type": "stream",
     "name": "stdout",
     "text": [
      "array shape is:  (3, 5, 2)\n[[[41, 72, 96]]]\n96\n(1, 1, 3)\n"
     ]
    }
   ],
   "source": [
    "arr5 = np.zeros((3,5,2))\n",
    "print(\"array shape is: \", arr5.shape)\n",
    "list1 = [[[41,72,96]]]\n",
    "print(list1)\n",
    "print(list1[0][0][2])\n",
    "arr6 = np.array(list1)\n",
    "print(arr6.shape)"
   ]
  },
  {
   "cell_type": "code",
   "execution_count": 6,
   "metadata": {},
   "outputs": [
    {
     "output_type": "stream",
     "name": "stdout",
     "text": [
      "[ 0  1  2  3  4  5  6  7  8  9 10 11 12 13 14 15 16 17 18 19]\n"
     ]
    }
   ],
   "source": [
    "arr = np.arange(0, 20)\n",
    "print(arr)\n"
   ]
  },
  {
   "cell_type": "code",
   "execution_count": 7,
   "metadata": {},
   "outputs": [
    {
     "output_type": "stream",
     "name": "stdout",
     "text": [
      "\nFrom 5:10\n [5 6 7 8 9]\n\nFrom start:10\n [0 1 2 3 4 5 6 7 8 9]\n\nFrom 5:end\n [ 5  6  7  8  9 10 11 12 13 14 15 16 17 18 19]\n\n-------------> WEIRD CASE 5:0 \n []\n\nFrom 5:third-from-last\n [ 5  6  7  8  9 10 11 12 13 14 15 16 17]\n\nFrom 10:end, stepsize = 2\n [10 12 14 16 18]\n\nFrom end GO BACK, backstep= 1\n [19 18 17 16 15 14 13 12 11 10  9  8  7  6  5  4  3  2  1  0]\n\nFrom end GO BACK, backstep= 2\n [19 17 15 13 11  9  7  5  3  1]\n"
     ]
    }
   ],
   "source": [
    "print(\"\\nFrom 5:10\\n {}\" .format(arr[5:10]))\n",
    "print(\"\\nFrom start:10\\n {}\" .format(arr[:10]))\n",
    "print(\"\\nFrom 5:end\\n {}\".format(arr[5:]))\n",
    "print(\"\\n-------------> WEIRD CASE 5:0 \\n {}\".format(arr[5:0]))\n",
    "print(\"\\nFrom 5:third-from-last\\n {}\".format(arr[5:-2]))\n",
    "print(\"\\nFrom 10:end, stepsize = 2\\n {}\" .format(arr[10::2]))\n",
    "print(\"\\nFrom end GO BACK, backstep= 1\\n {}\" .format(arr[::-1]))\n",
    "print(\"\\nFrom end GO BACK, backstep= 2\\n {}\" .format(arr[::-2]))"
   ]
  },
  {
   "cell_type": "code",
   "execution_count": 8,
   "metadata": {},
   "outputs": [
    {
     "output_type": "stream",
     "name": "stdout",
     "text": [
      "[[0. 0. 0. 0. 0. 0. 0. 0. 0. 0. 0. 0.]\n [0. 0. 0. 0. 0. 0. 0. 0. 0. 0. 0. 0.]\n [0. 0. 0. 0. 0. 0. 0. 0. 0. 0. 0. 0.]\n [0. 0. 0. 0. 0. 0. 0. 0. 0. 0. 0. 0.]\n [0. 0. 0. 0. 0. 0. 0. 0. 0. 0. 0. 0.]\n [0. 0. 0. 0. 0. 0. 0. 0. 0. 0. 0. 0.]\n [0. 0. 0. 0. 0. 0. 0. 0. 0. 0. 0. 0.]\n [0. 0. 0. 0. 0. 0. 0. 0. 0. 0. 0. 0.]\n [0. 0. 0. 0. 0. 0. 0. 0. 0. 0. 0. 0.]\n [0. 0. 0. 0. 0. 0. 0. 0. 0. 0. 0. 0.]\n [0. 0. 0. 0. 0. 0. 0. 0. 0. 0. 0. 0.]\n [0. 0. 0. 0. 0. 0. 0. 0. 0. 0. 0. 0.]\n [0. 0. 0. 0. 0. 0. 0. 0. 0. 0. 0. 0.]\n [0. 0. 0. 0. 0. 0. 0. 0. 0. 0. 0. 0.]]\n"
     ]
    }
   ],
   "source": [
    "arr2D = np.zeros((14,12))\n",
    "print(arr2D.reshape((-1, 12))) # just have specify one dimension, then use -1 for the other and Python will automatically interpret and calculate the size of the other dimension"
   ]
  },
  {
   "cell_type": "code",
   "execution_count": 3,
   "metadata": {},
   "outputs": [
    {
     "output_type": "stream",
     "name": "stdout",
     "text": [
      "Execution as a list: 93.825 sec.\nExecution as a np  : 0.403 sec.\n"
     ]
    }
   ],
   "source": [
    "# much faster computation\n",
    "import numpy as np\n",
    "import time \n",
    "\n",
    "x1 = np.arange (10000).reshape((-1,1))\n",
    "x2 = np.arange (10000).reshape((-1,1))\n",
    "\n",
    "list_product = np.zeros((10000,10000))\n",
    "\n",
    "t1 = time.time()\n",
    "\n",
    "for i, x1j in enumerate(x1):\n",
    "    for j, x2j in enumerate(x2):\n",
    "        list_product[i,j] = x1j*x2j\n",
    "\n",
    "t2 = time.time()\n",
    "t3 = time.time()\n",
    "list_product2 = np.dot(x1, x2.T)\n",
    "t4 = time.time()\n",
    "print(\"Execution as a list: {:.3f} sec.\".format((t2-t1)))\n",
    "print(\"Execution as a np  : {:.3f} sec.\".format((t4-t3)))"
   ]
  },
  {
   "cell_type": "code",
   "execution_count": 7,
   "metadata": {},
   "outputs": [
    {
     "output_type": "stream",
     "name": "stdout",
     "text": [
      "Compare the 2 products:\nnumpy dot product is much faster, by an order of 232.66896380470385\n"
     ]
    }
   ],
   "source": [
    "print(\"Compare the 2 products:\")\n",
    "np.all(list_product == list_product2)\n",
    "print(\"numpy dot product is much faster, by an order of {}\".format((t2-t1)/(t4-t3)))"
   ]
  },
  {
   "cell_type": "code",
   "execution_count": 6,
   "metadata": {},
   "outputs": [
    {
     "output_type": "stream",
     "name": "stdout",
     "text": [
      "a\nb\nc\n\n\n0\n1\n2\n\n\n0 a\n1 b\n2 c\n"
     ]
    }
   ],
   "source": [
    "list1 = ['a','b','c']\n",
    "for i in list1:\n",
    "    print(i)\n",
    "print(\"\\n\")\n",
    "for i in range(3):\n",
    "    print(i)\n",
    "print(\"\\n\")\n",
    "for i, x in enumerate(list1):\n",
    "    print(i, x)"
   ]
  }
 ]
}